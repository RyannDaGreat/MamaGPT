{
  "nbformat": 4,
  "nbformat_minor": 0,
  "metadata": {
    "colab": {
      "provenance": []
    },
    "kernelspec": {
      "name": "python3",
      "display_name": "Python 3"
    },
    "language_info": {
      "name": "python"
    }
  },
  "cells": [
    {
      "cell_type": "code",
      "execution_count": null,
      "metadata": {
        "colab": {
          "base_uri": "https://localhost:8080/"
        },
        "id": "s3Z7ytgUxFCv",
        "outputId": "efeb2ff4-9d13-4e62-f188-4a0c7d281888"
      },
      "outputs": [
        {
          "output_type": "stream",
          "name": "stdout",
          "text": [
            "Looking in indexes: https://pypi.org/simple, https://us-python.pkg.dev/colab-wheels/public/simple/\n",
            "Requirement already satisfied: rp in /usr/local/lib/python3.10/dist-packages (0.1.902)\n",
            "Requirement already satisfied: six in /usr/local/lib/python3.10/dist-packages (from rp) (1.16.0)\n",
            "Requirement already satisfied: pygments in /usr/local/lib/python3.10/dist-packages (from rp) (2.14.0)\n",
            "Requirement already satisfied: dill in /usr/local/lib/python3.10/dist-packages (from rp) (0.3.6)\n",
            "Requirement already satisfied: doge in /usr/local/lib/python3.10/dist-packages (from rp) (3.5.0)\n",
            "Requirement already satisfied: wcwidth in /usr/local/lib/python3.10/dist-packages (from rp) (0.2.6)\n",
            "Requirement already satisfied: inflect in /usr/local/lib/python3.10/dist-packages (from rp) (6.0.4)\n",
            "Requirement already satisfied: stackprinter in /usr/local/lib/python3.10/dist-packages (from rp) (0.2.10)\n",
            "Requirement already satisfied: pydantic>=1.9.1 in /usr/local/lib/python3.10/dist-packages (from inflect->rp) (1.10.7)\n",
            "Requirement already satisfied: typing-extensions>=4.2.0 in /usr/local/lib/python3.10/dist-packages (from pydantic>=1.9.1->inflect->rp) (4.5.0)\n"
          ]
        }
      ],
      "source": [
        "#Run this only one time\n",
        "%pip install rp\n",
        "import rp"
      ]
    },
    {
      "cell_type": "code",
      "source": [
        "#Run this only one time\n",
        "def make_prompt(t):\n",
        "    t=t.strip()\n",
        "    s=rp.split_sentences(t)\n",
        "    s=['%i. %s'%(i,e) for i,e in enumerate(s)]\n",
        "    command='''These sentences are broken english and not very understandtable. Can you please correct their grammar with\n",
        "minimal tweaks in order (preserving line numbers correctly). Please do it as follows:\n",
        "    MAKE SURE ITS NOT NOT NOT  IN A CODE BLOCK\n",
        "    [Number]. [Corrected Sentence]\n",
        "\n",
        "\n",
        "    HERE'S THE TEXT I WANT YOU TO PROCESS:\n",
        "\n",
        "\n",
        "    '''+'\\n'\n",
        "    out=command+rp.line_join(s)\n",
        "    print(out)\n",
        "\n",
        "def compare_sentences(sentence1, sentence2):\n",
        "    import difflib\n",
        "    def white_text(s):\n",
        "        s=s.strip()\n",
        "        return s\n",
        "    def green_text(s):\n",
        "        s=s.strip()\n",
        "        return rp.fansi(s,'green')\n",
        "    def red_text(s):\n",
        "        s=s.strip()\n",
        "        return rp.fansi(s,'red')\n",
        "        return rp.fansi('-['+s+']','red')\n",
        "\n",
        "    differ = difflib.Differ()\n",
        "    diff = list(differ.compare(sentence1.split(), sentence2.split()))\n",
        "\n",
        "    output = \"\"\n",
        "    for word in diff:\n",
        "        if word.startswith(\"  \"):\n",
        "            output += white_text(word[2:]) + \" \"\n",
        "        elif word.startswith(\"+\"):\n",
        "            output += green_text(word[1:]) + \" \"\n",
        "        elif word.startswith(\"-\"):\n",
        "            output += red_text(word[1:]) + \" \"\n",
        "\n",
        "    return output.strip()\n",
        "\n",
        "def compare():\n",
        "    inp=rp.split_sentences(BEFORE_TEXT.strip())\n",
        "    out=rp.line_split(AFTER_TEXT.strip())\n",
        "    # for b,a in zip(inp,out):\n",
        "        # print(compare_sentences(b,a))\n",
        "    for i,(b,a) in enumerate(zip(inp,out)):\n",
        "        print(('%i. '%i)+compare_sentences(b,a))"
      ],
      "metadata": {
        "id": "VWB9-RXOyLzl"
      },
      "execution_count": null,
      "outputs": []
    },
    {
      "cell_type": "code",
      "source": [
        "#Write it like this: BEFORE_TEXT=\"\"\" (here goes the text \"\"\"\n",
        "#Make sure to remember the triple \"\"\"'s on either side of it! \n",
        "BEFORE_TEXT=\"\"\"\n",
        "\n",
        "Personalize medication is becoming a challenge in modern e-health care systems due to its diversity and difficulty in obtaining curated data. Ethical issues during disease identification and false positive cases also compound the difficulty of researchers working in this direction [15]. While utilizing ML-based PH administration, prescient investigation can help the medical clinic delivered patients maybe who ought to be readmitted to the emergency clinic. Prescient examination is helpful to make a gamble delineation model where certain patients with higher gamble are made do with extra exertion. Such exertion incorporates, however isn't restricted to giving extra observing gadgets and consistent development. By and large, such models are made in view of cases and previous verifiable information. The powerful PH framework which would help on readmission aversion drives should likewise use dynamic information from the patient and use it to foresee future prospects and start an activity intend to relieve plausible inconveniences. Studies have demonstrated the way that fuses of clinical factors and important bodily functions can be significant to anticipate readmissions. Few predictive models for readmission are being developed which can help in this regard for minimizing the costs associated with readmissions of patients. The major challenges to develop these predictive models are the heterogeneity in diseases and huge patient data which is not deductive in nature but rather discrete in its appearance [16]. The PH framework can be utilized for this situation. Nonetheless, the issues of information transmission misfortune clamor in information and fragmented information should be tended to. Traditional ML methods have exhibited productivity in basic and all around compelled arrangement and relapse issues. Nonetheless, the majority of them have constraints in demonstrating convoluted issues because of their shallow models that lead single and frequently direct change from input information to issue explicit elements, and subsequently, significant component designing and area information is expected to remove, select highlights and develop proper portrayals from crude data sources. The current application of shallow learning models has resulted in 60% predictive ability which is not desired under medical domain. So the next step is to deploy deep reinforcement learning approaches which give high degree of prediction value even with less amount of patient data [17]. In any case, deep learning is a sort of portrayal learning strategy which permits the framework to find highlights required for a particular errand from the crude information naturally through building numerous processing layers with non-direct tasks to learn portrayals at various degrees of deliberation. Deep learning is skilled at finding multifaceted designs in high-aspect information. For instance, Convolutional Neural Networks (CNNs) are fit to deal with visual and other two-layered information like picture and discourse. Recurrent neural networks (RNNs) have shown prevalent outcomes in successive information, for example, utilization of Natural Language Processing. Deep belief networks (DBNs) commonly made of confined Boltzmann machines (BMs) are generative deep models especially supportive for further developing demonstrating and quicker combination of the tuning stage even with restricted preparing information. They have the ability to easily approximate the target function by virtue of efficient feature representation. The Deep Boltzmann Machines(DBM) are even more efficient as they work according to human behavior by analyzing from higher level of abstractions to lower level of abstractions.In this process they collect and store every element of the structural property of a model [18]. Deep learning has been applied in accuracy medication. Accessibility of biomedical information, for example, clinical imaging, Electronic Health Records (EHRs), genomics, lab tests, patient accounts, sensors and wearable gadgets sets out expanding open doors to acquire more exact and top to bottom bits of knowledge for patients. While, challenges are brought too.\n",
        "\"\"\""
      ],
      "metadata": {
        "id": "Sf9E1XULx8Vd"
      },
      "execution_count": null,
      "outputs": []
    },
    {
      "cell_type": "code",
      "source": [
        "#Copy this prompt into ChatGPT\n",
        "make_prompt(BEFORE_TEXT);"
      ],
      "metadata": {
        "colab": {
          "base_uri": "https://localhost:8080/"
        },
        "id": "iVPYDQpoyOAl",
        "outputId": "b79abfc2-a452-47a2-bcfb-e1fae5e56426"
      },
      "execution_count": null,
      "outputs": [
        {
          "output_type": "stream",
          "name": "stdout",
          "text": [
            "These sentences are broken english and not very understandtable. Can you please correct their grammar with\n",
            "minimal tweaks in order (preserving line numbers correctly). Please do it as follows:\n",
            "    MAKE SURE ITS NOT NOT NOT  IN A CODE BLOCK\n",
            "    [Number]. [Corrected Sentence]\n",
            "\n",
            "\n",
            "    HERE'S THE TEXT I WANT YOU TO PROCESS:\n",
            "\n",
            "\n",
            "    \n",
            "0. Personalize medication is becoming a challenge in modern e-health care systems due to its diversity and difficulty in obtaining curated data.\n",
            "1. Ethical issues during disease identification and false positive cases also compound the difficulty of researchers working in this direction [15].\n",
            "2. While utilizing ML-based PH administration, prescient investigation can help the medical clinic delivered patients maybe who ought to be readmitted to the emergency clinic.\n",
            "3. Prescient examination is helpful to make a gamble delineation model where certain patients with higher gamble are made do with extra exertion.\n",
            "4. Such exertion incorporates, however isn't restricted to giving extra observing gadgets and consistent development.\n",
            "5. By and large, such models are made in view of cases and previous verifiable information.\n",
            "6. The powerful PH framework which would help on readmission aversion drives should likewise use dynamic information from the patient and use it to foresee future prospects and start an activity intend to relieve plausible inconveniences.\n",
            "7. Studies have demonstrated the way that fuses of clinical factors and important bodily functions can be significant to anticipate readmissions.\n",
            "8. Few predictive models for readmission are being developed which can help in this regard for minimizing the costs associated with readmissions of patients.\n",
            "9. The major challenges to develop these predictive models are the heterogeneity in diseases and huge patient data which is not deductive in nature but rather discrete in its appearance [16].\n",
            "10. The PH framework can be utilized for this situation.\n",
            "11. Nonetheless, the issues of information transmission misfortune clamor in information and fragmented information should be tended to.\n",
            "12. Traditional ML methods have exhibited productivity in basic and all around compelled arrangement and relapse issues.\n",
            "13. Nonetheless, the majority of them have constraints in demonstrating convoluted issues because of their shallow models that lead single and frequently direct change from input information to issue explicit elements, and subsequently, significant component designing and area information is expected to remove, select highlights and develop proper portrayals from crude data sources.\n",
            "14. The current application of shallow learning models has resulted in 60% predictive ability which is not desired under medical domain.\n",
            "15. So the next step is to deploy deep reinforcement learning approaches which give high degree of prediction value even with less amount of patient data [17].\n",
            "16. In any case, deep learning is a sort of portrayal learning strategy which permits the framework to find highlights required for a particular errand from the crude information naturally through building numerous processing layers with non-direct tasks to learn portrayals at various degrees of deliberation.\n",
            "17. Deep learning is skilled at finding multifaceted designs in high-aspect information.\n",
            "18. For instance, Convolutional Neural Networks (CNNs) are fit to deal with visual and other two-layered information like picture and discourse.\n",
            "19. Recurrent neural networks (RNNs) have shown prevalent outcomes in successive information, for example, utilization of Natural Language Processing.\n",
            "20. Deep belief networks (DBNs) commonly made of confined Boltzmann machines (BMs) are generative deep models especially supportive for further developing demonstrating and quicker combination of the tuning stage even with restricted preparing information.\n",
            "21. They have the ability to easily approximate the target function by virtue of efficient feature representation.\n",
            "22. The Deep Boltzmann Machines(DBM) are even more efficient as they work according to human behavior by analyzing from higher level of abstractions to lower level of abstractions.In this process they collect and store every element of the structural property of a model [18].\n",
            "23. Deep learning has been applied in accuracy medication.\n",
            "24. Accessibility of biomedical information, for example, clinical imaging, Electronic Health Records (EHRs), genomics, lab tests, patient accounts, sensors and wearable gadgets sets out expanding open doors to acquire more exact and top to bottom bits of knowledge for patients.\n",
            "25. While, challenges are brought too.\n"
          ]
        }
      ]
    },
    {
      "cell_type": "code",
      "source": [
        "#Copy ChatGPT's output into here between the \"\"\"'s\n",
        "AFTER_TEXT=\"\"\"\n",
        "\n",
        "Personalized medication is becoming a challenge in modern e-healthcare systems due to their diversity and the difficulty in obtaining curated data.\n",
        "Ethical issues during disease identification and false positive cases also compound the difficulties of researchers working in this direction [15].\n",
        "When utilizing ML-based PH administration, prescient investigation can help the medical clinic identify patients who should be readmitted to the hospital.\n",
        "Prescient examination is helpful to create a gamble delineation model where certain patients with a higher risk are given extra attention.\n",
        "Such attention includes providing extra monitoring devices and constant observation.\n",
        "Such models are generally created based on cases and previous historical data.\n",
        "The powerful PH system that would help with readmission prevention should also use dynamic data from the patient and predict future prospects to initiate an action plan to mitigate plausible complications.\n",
        "Studies have demonstrated that the combination of clinical factors and important bodily functions can be significant in predicting readmissions.\n",
        "A few predictive models for readmission are being developed which can help in minimizing the costs associated with readmissions of patients.\n",
        "The major challenges in developing these predictive models are the heterogeneity in diseases and the huge patient data which is not deductive in nature but rather discrete in its appearance [16].\n",
        "The PH framework can be utilized in this situation.\n",
        "However, the issues of information transmission loss, noise in data, and fragmented data should be addressed.\n",
        "Traditional ML methods have exhibited efficiency in simple and well-constrained classification and regression problems.\n",
        "Nonetheless, most of them have limitations in modeling complicated issues due to their shallow models that lead to single and often direct transformation from input data to problem-specific features. Therefore, significant feature engineering and domain knowledge is needed to extract, select features, and develop appropriate representations from raw data sources.\n",
        "The current application of shallow learning models has resulted in a 60% predictive ability, which is not desirable under the medical domain.\n",
        "Therefore, the next step is to deploy deep reinforcement learning approaches which give a high degree of prediction value even with less amount of patient data [17].\n",
        "In any case, deep learning is a type of representation learning technique that allows the system to discover features required for a specific task from the raw data automatically by building multiple processing layers with non-linear operations to learn representations at different levels of abstraction.\n",
        "Deep learning is skilled at finding complex patterns in high-dimensional data.\n",
        "For instance, Convolutional Neural Networks (CNNs) are suitable for handling visual and other two-dimensional data like images and speech.\n",
        "Recurrent neural networks (RNNs) have shown superior results in sequential data, such as the use of Natural Language Processing.\n",
        "Deep belief networks (DBNs), commonly made of restricted Boltzmann machines (BMs), are generative deep models that are especially supportive for further improving modeling and faster integration of the tuning stage even with limited training data.\n",
        "They have the ability to approximate the target function easily by virtue of efficient feature representation.\n",
        "The Deep Boltzmann Machines (DBM) are even more efficient as they work according to human behavior by analyzing from a higher level of abstractions to a lower level of abstractions. In this process, they collect and store every element of the structural property of a model [18].\n",
        "Deep learning has been applied in accurate medication.\n",
        "The accessibility of biomedical information, such as clinical imaging, Electronic Health Records (EHRs), genomics, lab tests, patient accounts, sensors, and wearable devices, provides increasing opportunities to obtain more accurate and in-depth insights for patients.\n",
        "Nevertheless, challenges are also brought about.\n",
        "\n",
        "\n",
        "\n",
        "\"\"\""
      ],
      "metadata": {
        "id": "SMewW88EyQzC"
      },
      "execution_count": null,
      "outputs": []
    },
    {
      "cell_type": "code",
      "source": [
        "#Then it shows you the before/after comparisons. Red means ChatGPT removed something, and green means it added something.\n",
        "#If some lines are missing, as the probably will be if your input is too long, just run it again without the first few sentences\n",
        "compare()"
      ],
      "metadata": {
        "colab": {
          "base_uri": "https://localhost:8080/"
        },
        "id": "tG4oyWq-y0dD",
        "outputId": "a0aa2a65-c2df-4f7c-9564-49cb36355eed"
      },
      "execution_count": null,
      "outputs": [
        {
          "output_type": "stream",
          "name": "stdout",
          "text": [
            "0. \u001b[31mPersonalize\u001b[0m \u001b[32mPersonalized\u001b[0m medication is becoming a challenge in modern \u001b[31me-health\u001b[0m \u001b[32me-healthcare\u001b[0m \u001b[31mcare\u001b[0m systems due to \u001b[31mits\u001b[0m \u001b[32mtheir\u001b[0m diversity and \u001b[32mthe\u001b[0m difficulty in obtaining curated data.\n",
            "1. Ethical issues during disease identification and false positive cases also compound the \u001b[31mdifficulty\u001b[0m \u001b[32mdifficulties\u001b[0m of researchers working in this direction [15].\n",
            "2. \u001b[31mWhile\u001b[0m \u001b[32mWhen\u001b[0m utilizing ML-based PH administration, prescient investigation can help the medical clinic \u001b[31mdelivered\u001b[0m \u001b[32midentify\u001b[0m patients \u001b[31mmaybe\u001b[0m who \u001b[32mshould\u001b[0m \u001b[31mought\u001b[0m \u001b[31mto\u001b[0m be readmitted to the \u001b[32mhospital.\u001b[0m \u001b[31memergency\u001b[0m \u001b[31mclinic.\u001b[0m\n",
            "3. Prescient examination is helpful to \u001b[31mmake\u001b[0m \u001b[32mcreate\u001b[0m a gamble delineation model where certain patients with \u001b[32ma\u001b[0m higher \u001b[31mgamble\u001b[0m \u001b[32mrisk\u001b[0m are \u001b[32mgiven\u001b[0m \u001b[31mmade\u001b[0m \u001b[31mdo\u001b[0m \u001b[31mwith\u001b[0m extra \u001b[31mexertion.\u001b[0m \u001b[32mattention.\u001b[0m\n",
            "4. Such \u001b[32mattention\u001b[0m \u001b[32mincludes\u001b[0m \u001b[32mproviding\u001b[0m \u001b[31mexertion\u001b[0m \u001b[31mincorporates,\u001b[0m \u001b[31mhowever\u001b[0m \u001b[31misn't\u001b[0m \u001b[31mrestricted\u001b[0m \u001b[31mto\u001b[0m \u001b[31mgiving\u001b[0m extra \u001b[31mobserving\u001b[0m \u001b[31mgadgets\u001b[0m \u001b[32mmonitoring\u001b[0m \u001b[32mdevices\u001b[0m and \u001b[31mconsistent\u001b[0m \u001b[32mconstant\u001b[0m \u001b[31mdevelopment.\u001b[0m \u001b[32mobservation.\u001b[0m\n",
            "5. \u001b[31mBy\u001b[0m \u001b[31mand\u001b[0m \u001b[31mlarge,\u001b[0m \u001b[31msuch\u001b[0m \u001b[32mSuch\u001b[0m models are \u001b[31mmade\u001b[0m \u001b[31min\u001b[0m \u001b[31mview\u001b[0m \u001b[31mof\u001b[0m \u001b[32mgenerally\u001b[0m \u001b[32mcreated\u001b[0m \u001b[32mbased\u001b[0m \u001b[32mon\u001b[0m cases and previous \u001b[31mverifiable\u001b[0m \u001b[31minformation.\u001b[0m \u001b[32mhistorical\u001b[0m \u001b[32mdata.\u001b[0m\n",
            "6. The powerful PH \u001b[31mframework\u001b[0m \u001b[31mwhich\u001b[0m \u001b[32msystem\u001b[0m \u001b[32mthat\u001b[0m would help \u001b[31mon\u001b[0m \u001b[32mwith\u001b[0m readmission \u001b[32mprevention\u001b[0m \u001b[31maversion\u001b[0m \u001b[31mdrives\u001b[0m should \u001b[31mlikewise\u001b[0m \u001b[32malso\u001b[0m use dynamic \u001b[31minformation\u001b[0m \u001b[32mdata\u001b[0m from the patient and \u001b[32mpredict\u001b[0m \u001b[31muse\u001b[0m \u001b[31mit\u001b[0m \u001b[31mto\u001b[0m \u001b[31mforesee\u001b[0m future prospects \u001b[31mand\u001b[0m \u001b[31mstart\u001b[0m \u001b[32mto\u001b[0m \u001b[32minitiate\u001b[0m an \u001b[31mactivity\u001b[0m \u001b[31mintend\u001b[0m \u001b[32maction\u001b[0m \u001b[32mplan\u001b[0m to \u001b[31mrelieve\u001b[0m \u001b[32mmitigate\u001b[0m plausible \u001b[31minconveniences.\u001b[0m \u001b[32mcomplications.\u001b[0m\n",
            "7. Studies have demonstrated \u001b[32mthat\u001b[0m the \u001b[32mcombination\u001b[0m \u001b[31mway\u001b[0m \u001b[31mthat\u001b[0m \u001b[31mfuses\u001b[0m of clinical factors and important bodily functions can be significant \u001b[31mto\u001b[0m \u001b[31manticipate\u001b[0m \u001b[32min\u001b[0m \u001b[32mpredicting\u001b[0m readmissions.\n",
            "8. \u001b[31mFew\u001b[0m \u001b[32mA\u001b[0m \u001b[32mfew\u001b[0m predictive models for readmission are being developed which can help in \u001b[31mthis\u001b[0m \u001b[31mregard\u001b[0m \u001b[31mfor\u001b[0m minimizing the costs associated with readmissions of patients.\n",
            "9. The major challenges \u001b[31mto\u001b[0m \u001b[32min\u001b[0m \u001b[31mdevelop\u001b[0m \u001b[32mdeveloping\u001b[0m these predictive models are the heterogeneity in diseases and \u001b[32mthe\u001b[0m huge patient data which is not deductive in nature but rather discrete in its appearance [16].\n",
            "10. The PH framework can be utilized \u001b[31mfor\u001b[0m \u001b[32min\u001b[0m this situation.\n",
            "11. \u001b[31mNonetheless,\u001b[0m \u001b[32mHowever,\u001b[0m the issues of information transmission \u001b[31mmisfortune\u001b[0m \u001b[31mclamor\u001b[0m \u001b[32mloss,\u001b[0m \u001b[32mnoise\u001b[0m in \u001b[31minformation\u001b[0m \u001b[32mdata,\u001b[0m and fragmented \u001b[31minformation\u001b[0m \u001b[32mdata\u001b[0m should be \u001b[32maddressed.\u001b[0m \u001b[31mtended\u001b[0m \u001b[31mto.\u001b[0m\n",
            "12. Traditional ML methods have exhibited \u001b[31mproductivity\u001b[0m \u001b[32mefficiency\u001b[0m in \u001b[31mbasic\u001b[0m \u001b[32msimple\u001b[0m and \u001b[32mwell-constrained\u001b[0m \u001b[32mclassification\u001b[0m \u001b[31mall\u001b[0m \u001b[31maround\u001b[0m \u001b[31mcompelled\u001b[0m \u001b[31marrangement\u001b[0m and \u001b[31mrelapse\u001b[0m \u001b[31missues.\u001b[0m \u001b[32mregression\u001b[0m \u001b[32mproblems.\u001b[0m\n",
            "13. Nonetheless, \u001b[32mmost\u001b[0m \u001b[31mthe\u001b[0m \u001b[31mmajority\u001b[0m of them have \u001b[31mconstraints\u001b[0m \u001b[32mlimitations\u001b[0m in \u001b[31mdemonstrating\u001b[0m \u001b[31mconvoluted\u001b[0m \u001b[32mmodeling\u001b[0m \u001b[32mcomplicated\u001b[0m issues \u001b[31mbecause\u001b[0m \u001b[31mof\u001b[0m \u001b[32mdue\u001b[0m \u001b[32mto\u001b[0m their shallow models that lead \u001b[32mto\u001b[0m single and \u001b[31mfrequently\u001b[0m \u001b[32moften\u001b[0m direct \u001b[31mchange\u001b[0m \u001b[32mtransformation\u001b[0m from input \u001b[31minformation\u001b[0m \u001b[32mdata\u001b[0m to \u001b[31missue\u001b[0m \u001b[31mexplicit\u001b[0m \u001b[31melements,\u001b[0m \u001b[32mproblem-specific\u001b[0m \u001b[32mfeatures.\u001b[0m \u001b[32mTherefore,\u001b[0m \u001b[32msignificant\u001b[0m \u001b[32mfeature\u001b[0m \u001b[32mengineering\u001b[0m and \u001b[32mdomain\u001b[0m \u001b[32mknowledge\u001b[0m \u001b[31msubsequently,\u001b[0m \u001b[31msignificant\u001b[0m \u001b[31mcomponent\u001b[0m \u001b[31mdesigning\u001b[0m \u001b[31mand\u001b[0m \u001b[31marea\u001b[0m \u001b[31minformation\u001b[0m is \u001b[31mexpected\u001b[0m \u001b[32mneeded\u001b[0m to \u001b[31mremove,\u001b[0m \u001b[32mextract,\u001b[0m select \u001b[31mhighlights\u001b[0m \u001b[32mfeatures,\u001b[0m and develop \u001b[31mproper\u001b[0m \u001b[31mportrayals\u001b[0m \u001b[32mappropriate\u001b[0m \u001b[32mrepresentations\u001b[0m from \u001b[31mcrude\u001b[0m \u001b[32mraw\u001b[0m data sources.\n",
            "14. The current application of shallow learning models has resulted in \u001b[32ma\u001b[0m 60% predictive \u001b[31mability\u001b[0m \u001b[32mability,\u001b[0m which is not \u001b[31mdesired\u001b[0m \u001b[32mdesirable\u001b[0m under \u001b[32mthe\u001b[0m medical domain.\n",
            "15. \u001b[31mSo\u001b[0m \u001b[32mTherefore,\u001b[0m the next step is to deploy deep reinforcement learning approaches which give \u001b[32ma\u001b[0m high degree of prediction value even with less amount of patient data [17].\n",
            "16. In any case, deep learning is a \u001b[31msort\u001b[0m \u001b[32mtype\u001b[0m of \u001b[31mportrayal\u001b[0m \u001b[32mrepresentation\u001b[0m learning \u001b[31mstrategy\u001b[0m \u001b[31mwhich\u001b[0m \u001b[31mpermits\u001b[0m \u001b[32mtechnique\u001b[0m \u001b[32mthat\u001b[0m \u001b[32mallows\u001b[0m the \u001b[31mframework\u001b[0m \u001b[32msystem\u001b[0m to \u001b[31mfind\u001b[0m \u001b[31mhighlights\u001b[0m \u001b[32mdiscover\u001b[0m \u001b[32mfeatures\u001b[0m required for a \u001b[31mparticular\u001b[0m \u001b[31merrand\u001b[0m \u001b[32mspecific\u001b[0m \u001b[32mtask\u001b[0m from the \u001b[31mcrude\u001b[0m \u001b[31minformation\u001b[0m \u001b[31mnaturally\u001b[0m \u001b[31mthrough\u001b[0m \u001b[32mraw\u001b[0m \u001b[32mdata\u001b[0m \u001b[32mautomatically\u001b[0m \u001b[32mby\u001b[0m building \u001b[31mnumerous\u001b[0m \u001b[32mmultiple\u001b[0m processing layers with \u001b[31mnon-direct\u001b[0m \u001b[31mtasks\u001b[0m \u001b[32mnon-linear\u001b[0m \u001b[32moperations\u001b[0m to learn \u001b[31mportrayals\u001b[0m \u001b[32mrepresentations\u001b[0m at \u001b[31mvarious\u001b[0m \u001b[31mdegrees\u001b[0m \u001b[32mdifferent\u001b[0m \u001b[32mlevels\u001b[0m of \u001b[31mdeliberation.\u001b[0m \u001b[32mabstraction.\u001b[0m\n",
            "17. Deep learning is skilled at finding \u001b[31mmultifaceted\u001b[0m \u001b[31mdesigns\u001b[0m \u001b[32mcomplex\u001b[0m \u001b[32mpatterns\u001b[0m in \u001b[31mhigh-aspect\u001b[0m \u001b[31minformation.\u001b[0m \u001b[32mhigh-dimensional\u001b[0m \u001b[32mdata.\u001b[0m\n",
            "18. For instance, Convolutional Neural Networks (CNNs) are \u001b[32msuitable\u001b[0m \u001b[32mfor\u001b[0m \u001b[32mhandling\u001b[0m \u001b[31mfit\u001b[0m \u001b[31mto\u001b[0m \u001b[31mdeal\u001b[0m \u001b[31mwith\u001b[0m visual and other \u001b[31mtwo-layered\u001b[0m \u001b[31minformation\u001b[0m \u001b[32mtwo-dimensional\u001b[0m \u001b[32mdata\u001b[0m like \u001b[31mpicture\u001b[0m \u001b[32mimages\u001b[0m and \u001b[31mdiscourse.\u001b[0m \u001b[32mspeech.\u001b[0m\n",
            "19. Recurrent neural networks (RNNs) have shown \u001b[31mprevalent\u001b[0m \u001b[31moutcomes\u001b[0m \u001b[32msuperior\u001b[0m \u001b[32mresults\u001b[0m in \u001b[31msuccessive\u001b[0m \u001b[31minformation,\u001b[0m \u001b[31mfor\u001b[0m \u001b[31mexample,\u001b[0m \u001b[31mutilization\u001b[0m \u001b[32msequential\u001b[0m \u001b[32mdata,\u001b[0m \u001b[32msuch\u001b[0m \u001b[32mas\u001b[0m \u001b[32mthe\u001b[0m \u001b[32muse\u001b[0m of Natural Language Processing.\n",
            "20. Deep belief networks \u001b[31m(DBNs)\u001b[0m \u001b[32m(DBNs),\u001b[0m commonly made of \u001b[31mconfined\u001b[0m \u001b[32mrestricted\u001b[0m Boltzmann machines \u001b[31m(BMs)\u001b[0m \u001b[32m(BMs),\u001b[0m are generative deep models \u001b[32mthat\u001b[0m \u001b[32mare\u001b[0m especially supportive for further \u001b[31mdeveloping\u001b[0m \u001b[31mdemonstrating\u001b[0m \u001b[32mimproving\u001b[0m \u001b[32mmodeling\u001b[0m and \u001b[31mquicker\u001b[0m \u001b[31mcombination\u001b[0m \u001b[32mfaster\u001b[0m \u001b[32mintegration\u001b[0m of the tuning stage even with \u001b[31mrestricted\u001b[0m \u001b[31mpreparing\u001b[0m \u001b[31minformation.\u001b[0m \u001b[32mlimited\u001b[0m \u001b[32mtraining\u001b[0m \u001b[32mdata.\u001b[0m\n",
            "21. They have the ability to \u001b[31measily\u001b[0m approximate the target function \u001b[32measily\u001b[0m by virtue of efficient feature representation.\n",
            "22. The Deep Boltzmann \u001b[31mMachines(DBM)\u001b[0m \u001b[32mMachines\u001b[0m \u001b[32m(DBM)\u001b[0m are even more efficient as they work according to human behavior by analyzing from \u001b[32ma\u001b[0m higher level of abstractions to \u001b[32ma\u001b[0m lower level of \u001b[31mabstractions.In\u001b[0m \u001b[32mabstractions.\u001b[0m \u001b[32mIn\u001b[0m this \u001b[31mprocess\u001b[0m \u001b[32mprocess,\u001b[0m they collect and store every element of the structural property of a model [18].\n",
            "23. Deep learning has been applied in \u001b[31maccuracy\u001b[0m \u001b[32maccurate\u001b[0m medication.\n",
            "24. \u001b[32mThe\u001b[0m \u001b[31mAccessibility\u001b[0m \u001b[32maccessibility\u001b[0m of biomedical information, \u001b[31mfor\u001b[0m \u001b[31mexample,\u001b[0m \u001b[32msuch\u001b[0m \u001b[32mas\u001b[0m clinical imaging, Electronic Health Records (EHRs), genomics, lab tests, patient accounts, \u001b[31msensors\u001b[0m \u001b[32msensors,\u001b[0m and wearable \u001b[32mdevices,\u001b[0m \u001b[32mprovides\u001b[0m \u001b[32mincreasing\u001b[0m \u001b[32mopportunities\u001b[0m \u001b[31mgadgets\u001b[0m \u001b[31msets\u001b[0m \u001b[31mout\u001b[0m \u001b[31mexpanding\u001b[0m \u001b[31mopen\u001b[0m \u001b[31mdoors\u001b[0m to \u001b[31macquire\u001b[0m \u001b[32mobtain\u001b[0m more \u001b[31mexact\u001b[0m \u001b[32maccurate\u001b[0m and \u001b[32min-depth\u001b[0m \u001b[32minsights\u001b[0m \u001b[31mtop\u001b[0m \u001b[31mto\u001b[0m \u001b[31mbottom\u001b[0m \u001b[31mbits\u001b[0m \u001b[31mof\u001b[0m \u001b[31mknowledge\u001b[0m for patients.\n",
            "25. \u001b[31mWhile,\u001b[0m \u001b[32mNevertheless,\u001b[0m challenges are \u001b[32malso\u001b[0m brought \u001b[31mtoo.\u001b[0m \u001b[32mabout.\u001b[0m\n"
          ]
        }
      ]
    }
  ]
}